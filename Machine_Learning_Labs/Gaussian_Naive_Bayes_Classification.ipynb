{
 "cells": [
  {
   "metadata": {},
   "cell_type": "markdown",
   "source": [
    "### Gaussian Naive Bayes Classification Implementation\n",
    "\n",
    "This notebook contains an implementation of the Gaussian Naive Bayes (GNB) classifier for continuous data - the goal is to classify benign and malignant breast tumors. In this lab, we apply GNB to classify data points based on their feature distributions, modeled as Gaussians conditioned on the class labels. Here’s an overview of the approach:\n",
    "\n",
    "1. **Parameter Estimation**: We start by estimating the mean and variance for each feature conditioned on the class label using a labeled training dataset.\n",
    "2. **MAP Class Prediction**: The notebook then uses these parameters to compute the posterior probability of each class for a new input. We apply the Maximum a Posteriori (MAP) decision rule, choosing the class with the highest posterior probability.\n",
    "3. **Log-Probability for Numerical Stability**: To avoid numerical underflow, we calculate the log of the probabilities rather than the raw probabilities, improving stability when working with small probability values.\n",
    "4. **Performance Evaluation**: The notebook evaluates model performance using precision, recall, and accuracy metrics. Precision measures the proportion of true positive predictions among all positive predictions, recall measures the proportion of true positives identified among actual positives, and accuracy provides the overall correctness of predictions. These metrics offer insights into the model's effectiveness in distinguishing between classes.\n",
    "\n",
    "\n",
    "This implementation demonstrates the use of Gaussian distributions within the Naive Bayes framework, making it suitable for continuous predictor variables. It showcases essential ML concepts, such as parameter estimation, probabilistic modeling, and handling numerical stability through log-probability calculations.\n",
    "\n"
   ],
   "id": "355799134e376b92"
  },
  {
   "cell_type": "code",
   "id": "initial_id",
   "metadata": {
    "collapsed": true,
    "ExecuteTime": {
     "end_time": "2024-10-30T03:30:24.316628Z",
     "start_time": "2024-10-30T03:30:23.075313Z"
    }
   },
   "source": [
    "#import libraries\n",
    "import numpy as np\n",
    "import pandas as pd\n",
    "import scipy.stats as stats"
   ],
   "outputs": [],
   "execution_count": 1
  },
  {
   "metadata": {
    "ExecuteTime": {
     "end_time": "2024-10-30T03:30:24.876117Z",
     "start_time": "2024-10-30T03:30:24.323812Z"
    }
   },
   "cell_type": "code",
   "source": [
    "#import dataset and make necessary changes\n",
    "names = ['id','thick','size_unif','shape_unif','marg','cell_size','bare',\n",
    "         'chrom','normal','mit','class']\n",
    "df = pd.read_csv('https://archive.ics.uci.edu/ml/machine-learning-databases/' +\n",
    "                 'breast-cancer-wisconsin/breast-cancer-wisconsin.data',\n",
    "                names=names,na_values='?',header=None)\n",
    "df = df.dropna()\n",
    "\n",
    "# Get the response.  Convert to a zero-one indicator\n",
    "yraw = np.array(df['class'])\n",
    "BEN_VAL = 2   # value in the 'class' label for benign samples\n",
    "MAL_VAL = 4   # value in the 'class' label for malignant samples\n",
    "y = (yraw == MAL_VAL).astype(int) # now y has values of 0,1\n",
    "Iben = (y==0)\n",
    "Imal = (y==1)"
   ],
   "id": "8970c6598a34f23b",
   "outputs": [],
   "execution_count": 2
  },
  {
   "metadata": {
    "ExecuteTime": {
     "end_time": "2024-10-30T03:30:24.985926Z",
     "start_time": "2024-10-30T03:30:24.974302Z"
    }
   },
   "cell_type": "code",
   "source": [
    "#convert the features to a numpy array and get the number of instances and features\n",
    "xnames = names[1:-1]\n",
    "Xfull = np.array(df[xnames])\n",
    "n = Xfull.shape[0]\n",
    "d = Xfull.shape[1]"
   ],
   "id": "bfb811a25b76e5de",
   "outputs": [],
   "execution_count": 3
  },
  {
   "metadata": {},
   "cell_type": "markdown",
   "source": "Calculate the mean and variance of each feature for benign and malignant samples",
   "id": "b2a98f0797afdd2c"
  },
  {
   "metadata": {
    "ExecuteTime": {
     "end_time": "2024-10-30T03:30:25.002032Z",
     "start_time": "2024-10-30T03:30:24.996853Z"
    }
   },
   "cell_type": "code",
   "source": [
    "p = np.average(y)\n",
    "\n",
    "sumBen = sum(Iben)\n",
    "sumMal = sum(Imal)\n",
    "mu0 = []\n",
    "mu1 = []\n",
    "sig0 = []\n",
    "sig1 = []\n",
    "for i in range(d):\n",
    "    mu0Curr = sum(Xfull[:,i] * Iben)/sumBen\n",
    "    mu1Curr = sum(Xfull[:,i] * Imal)/sumMal\n",
    "    \n",
    "    sig0Curr = sum((Xfull[:,i] * Iben - mu0Curr)**2)/sumBen\n",
    "    sig1Curr = sum((Xfull[:,i] * Imal - mu1Curr)**2)/sumMal\n",
    "    \n",
    "    mu0.append(mu0Curr)\n",
    "    mu1.append(mu1Curr)\n",
    "    sig0.append(sig0Curr)\n",
    "    sig1.append(sig1Curr)"
   ],
   "id": "3e99bb7102ed44c4",
   "outputs": [],
   "execution_count": 4
  },
  {
   "metadata": {},
   "cell_type": "markdown",
   "source": "Calculate the MLE, MAP, and log-probabilities for each class",
   "id": "c22725769f78d075"
  },
  {
   "metadata": {
    "ExecuteTime": {
     "end_time": "2024-10-30T03:30:25.059196Z",
     "start_time": "2024-10-30T03:30:25.029729Z"
    }
   },
   "cell_type": "code",
   "source": [
    "#Calculate MLE with Bayes rule \n",
    "P0_MLE = []\n",
    "P1_MLE = []\n",
    "for i in range(n):\n",
    "    pCurr0 = 1\n",
    "    pCurr1 = 1\n",
    "    \n",
    "    for j in range(d):\n",
    "        pCurr0 *= np.log((1/np.sqrt(2*np.pi*sig0[j])))*np.log(np.exp(-(Xfull[i,j]-mu0[j])**2/(2*sig0[j])))\n",
    "        pCurr1 *= np.log((1/np.sqrt(2*np.pi*sig1[j])))*np.log(np.exp(-(Xfull[i,j]-mu1[j])**2/(2*sig1[j])))\n",
    "    \n",
    "    P0_MLE.append(pCurr0)   \n",
    "    P1_MLE.append(pCurr1)\n",
    "\n",
    "#Use MLE to calculate MAP and predict the class for each instance\n",
    "yhat = []\n",
    "for i in range(n):\n",
    "    P0_MAP = P0_MLE[i] * np.log(1-p)\n",
    "    P1_MAP = P1_MLE[i] * np.log(p)\n",
    "    if P1_MAP >= P0_MAP:\n",
    "        yhat.append(1)\n",
    "    else:\n",
    "        yhat.append(0)\n",
    "\n",
    "yhat = np.array(yhat) "
   ],
   "id": "3c8755f953c03507",
   "outputs": [],
   "execution_count": 5
  },
  {
   "metadata": {},
   "cell_type": "markdown",
   "source": [
    "**NOT MY CODE BELOW**: provided code for checking the accuracy, precision, and recall of my model. \n",
    "\n",
    "Note the recall is higher than accuracy and precision, which is desirable in the context of the model's goal to detect breast cancer, as a false negative is significantly more costly than a false positive."
   ],
   "id": "436ffbb5e68962c6"
  },
  {
   "metadata": {
    "ExecuteTime": {
     "end_time": "2024-10-30T03:30:25.073675Z",
     "start_time": "2024-10-30T03:30:25.069676Z"
    }
   },
   "cell_type": "code",
   "source": [
    "acc = np.mean(yhat == y)\n",
    "print(\"Accuracy on training data = %f\" % acc)\n",
    "recall = np.sum((yhat == 1)*(y == 1))/np.sum(y == 1)\n",
    "precision = np.sum((yhat == 1)*(y == 1))/np.sum(yhat == 1)\n",
    "print(\"Recall: \" + str(recall))\n",
    "print(\"Precision: \" + str(precision))"
   ],
   "id": "3f3a911a9b829934",
   "outputs": [
    {
     "name": "stdout",
     "output_type": "stream",
     "text": [
      "Accuracy on training data = 0.975110\n",
      "Recall: 0.9874476987447699\n",
      "Precision: 0.944\n"
     ]
    }
   ],
   "execution_count": 6
  },
  {
   "metadata": {},
   "cell_type": "markdown",
   "source": "**NOTE**: Ideally, we would test the recall, precision, and accuracy using test data. As this was only one part of a larger homework problem, we were not instructed to use test data as the main focus of the question was the implementation of the Gaussian Naive Bayes classifier.",
   "id": "948701c824f89d74"
  }
 ],
 "metadata": {
  "kernelspec": {
   "display_name": "Python 3",
   "language": "python",
   "name": "python3"
  },
  "language_info": {
   "codemirror_mode": {
    "name": "ipython",
    "version": 2
   },
   "file_extension": ".py",
   "mimetype": "text/x-python",
   "name": "python",
   "nbconvert_exporter": "python",
   "pygments_lexer": "ipython2",
   "version": "2.7.6"
  }
 },
 "nbformat": 4,
 "nbformat_minor": 5
}
