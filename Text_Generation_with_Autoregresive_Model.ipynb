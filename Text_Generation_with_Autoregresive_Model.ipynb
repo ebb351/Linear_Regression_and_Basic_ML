{
 "cells": [
  {
   "metadata": {},
   "cell_type": "markdown",
   "source": [
    "### Summary: Generating Text with an Autoregressive Model\n",
    "\n",
    "This notebook explores building an autoregressive text generation model, also known as a **Markov Model**, to generate text in the style of a given book. The lab begins by preprocessing text data from **Project Gutenberg**, using works like _Alice in Wonderland_ and _The Metamorphosis_, and sets up an autoregressive model where the probability of the next word is based on the previous $k$ words (k-gram). The goal is to balance grammatical structure while avoiding excessive copying from the source material.\n",
    "\n",
    "Key components of the lab include:\n",
    "- **Data Preprocessing**: Downloading and cleaning text from multiple books, preparing it for modeling by tokenizing and structuring sequences based on $k$-grams.\n",
    "- **Model Implementation**: Constructing and training the autoregressive model to predict the next word based on the $k$ most recent words, demonstrating the impact of $k$ on the quality of generated text.\n",
    "- **Quality vs. Plagiarism Trade-off**: Analyzing how smaller values of $k$ generate less coherent text, while larger values result in plagiarism as the model copies large text chunks from the original work. Experiments include measuring the **Longest Common Substring (LCS)** between generated and original text across different $k$ values.\n",
    "- **Visualization and Evaluation**: Plotting LCS lengths to show how text similarity scales with $k$ and exploring the exponential growth in copying as $k$ increases. \n",
    "- **Model Improvement Challenge**: A bonus task invites modifications to the $k$-gram model, encouraging creativity to balance coherence and originality.\n",
    "\n",
    "This hands-on lab provides a foundational understanding of probabilistic models for text generation and highlights the challenges and trade-offs involved in building language models.\n"
   ],
   "id": "43eff15ae7670bee"
  },
  {
   "metadata": {},
   "cell_type": "markdown",
   "source": "Import libraries",
   "id": "2beff647730d645b"
  },
  {
   "cell_type": "code",
   "id": "initial_id",
   "metadata": {
    "collapsed": true,
    "ExecuteTime": {
     "end_time": "2024-10-28T03:44:14.960849Z",
     "start_time": "2024-10-28T03:44:14.703367Z"
    }
   },
   "source": [
    "import random\n",
    "import numpy as np\n",
    "import matplotlib.pyplot as plt\n",
    "plt.style.use('classic')"
   ],
   "outputs": [],
   "execution_count": 1
  },
  {
   "metadata": {},
   "cell_type": "markdown",
   "source": "Preprocessing the text data",
   "id": "3e7d6bc4a094bdda"
  },
  {
   "metadata": {
    "ExecuteTime": {
     "end_time": "2024-10-28T03:44:14.969365Z",
     "start_time": "2024-10-28T03:44:14.964947Z"
    }
   },
   "cell_type": "code",
   "source": [
    "#Code adapted from https://pypi.org/project/Gutenberg/ to help download from\n",
    "#Project Gutenberg (www.gutenberg.org/) automatically. \n",
    "def _format_download_urls(etextno):\n",
    "    \"\"\"\n",
    "    Returns the possible urls location on the Project Gutenberg servers for a\n",
    "    given text. Mostly ripped from https://pypi.org/project/Gutenberg/.\n",
    "    \"\"\"\n",
    "    uri_root = r'http://www.gutenberg.lib.md.us'\n",
    "\n",
    "    if 0 < etextno < 10:\n",
    "        oldstyle_files = (\n",
    "            'when11',\n",
    "            'bill11',\n",
    "            'jfk11',\n",
    "            'getty11',\n",
    "            'const11',\n",
    "            'liber11',\n",
    "            'mayfl11',\n",
    "            'linc211',\n",
    "            'linc111',\n",
    "        )\n",
    "        etextno = int(etextno)\n",
    "        return '{root}/etext90/{name}.txt'.format(\n",
    "            root=uri_root,\n",
    "            name=oldstyle_files[etextno - 1])\n",
    "\n",
    "    else:\n",
    "        etextno = str(etextno)\n",
    "        extensions = ('.txt', '-8.txt', '-0.txt')\n",
    "        urls = []\n",
    "        for extension in extensions:\n",
    "            uri = '{root}/{path}/{etextno}/{etextno}{extension}'.format(\n",
    "                root=uri_root,\n",
    "                path='/'.join(etextno[:len(etextno) - 1]),\n",
    "                etextno=etextno,\n",
    "                extension=extension)\n",
    "            urls.append(uri)\n",
    "        return urls\n",
    "    \n",
    "def download_from_book_id(bookid, bookname):\n",
    "\n",
    "    book_dst = f'{bookname}.txt'\n",
    "    \n",
    "    import os\n",
    "    from six.moves import urllib\n",
    "    \n",
    "    if os.path.isfile(book_dst):\n",
    "      print('File %s is already downloaded' % book_dst)\n",
    "    else:\n",
    "      possible_urls = _format_download_urls(bookid)\n",
    "      print(possible_urls)\n",
    "      for url in possible_urls:\n",
    "        print(f'trying {url}...')\n",
    "        try:\n",
    "          urllib.request.urlretrieve(url, book_dst)\n",
    "          print(f'Downloaded {bookname}.txt, with book id {bookid}.')\n",
    "          return\n",
    "        except urllib.error.HTTPError:\n",
    "          None\n",
    "      raise NameError(\"Couldn't find that book on Gutenberg\")"
   ],
   "id": "71098982b85d6041",
   "outputs": [],
   "execution_count": 2
  },
  {
   "metadata": {
    "ExecuteTime": {
     "end_time": "2024-10-28T03:44:15.987662Z",
     "start_time": "2024-10-28T03:44:15.053657Z"
    }
   },
   "cell_type": "code",
   "source": [
    "#downloading the books we'll use for the lab\n",
    "download_from_book_id(100, \"Shakespeare\")\n",
    "download_from_book_id(5200, \"Metamorphosis\")\n",
    "download_from_book_id(11, \"Wonderland\")\n",
    "download_from_book_id(1184, \"MonteCristo\")"
   ],
   "id": "6f1d888f05680971",
   "outputs": [
    {
     "name": "stdout",
     "output_type": "stream",
     "text": [
      "['http://www.gutenberg.lib.md.us/1/0/100/100.txt', 'http://www.gutenberg.lib.md.us/1/0/100/100-8.txt', 'http://www.gutenberg.lib.md.us/1/0/100/100-0.txt']\n",
      "trying http://www.gutenberg.lib.md.us/1/0/100/100.txt...\n",
      "trying http://www.gutenberg.lib.md.us/1/0/100/100-8.txt...\n",
      "trying http://www.gutenberg.lib.md.us/1/0/100/100-0.txt...\n",
      "Downloaded Shakespeare.txt, with book id 100.\n",
      "['http://www.gutenberg.lib.md.us/5/2/0/5200/5200.txt', 'http://www.gutenberg.lib.md.us/5/2/0/5200/5200-8.txt', 'http://www.gutenberg.lib.md.us/5/2/0/5200/5200-0.txt']\n",
      "trying http://www.gutenberg.lib.md.us/5/2/0/5200/5200.txt...\n",
      "trying http://www.gutenberg.lib.md.us/5/2/0/5200/5200-8.txt...\n",
      "trying http://www.gutenberg.lib.md.us/5/2/0/5200/5200-0.txt...\n",
      "Downloaded Metamorphosis.txt, with book id 5200.\n",
      "['http://www.gutenberg.lib.md.us/1/11/11.txt', 'http://www.gutenberg.lib.md.us/1/11/11-8.txt', 'http://www.gutenberg.lib.md.us/1/11/11-0.txt']\n",
      "trying http://www.gutenberg.lib.md.us/1/11/11.txt...\n",
      "trying http://www.gutenberg.lib.md.us/1/11/11-8.txt...\n",
      "trying http://www.gutenberg.lib.md.us/1/11/11-0.txt...\n",
      "Downloaded Wonderland.txt, with book id 11.\n",
      "['http://www.gutenberg.lib.md.us/1/1/8/1184/1184.txt', 'http://www.gutenberg.lib.md.us/1/1/8/1184/1184-8.txt', 'http://www.gutenberg.lib.md.us/1/1/8/1184/1184-0.txt']\n",
      "trying http://www.gutenberg.lib.md.us/1/1/8/1184/1184.txt...\n",
      "trying http://www.gutenberg.lib.md.us/1/1/8/1184/1184-8.txt...\n",
      "trying http://www.gutenberg.lib.md.us/1/1/8/1184/1184-0.txt...\n",
      "Downloaded MonteCristo.txt, with book id 1184.\n"
     ]
    }
   ],
   "execution_count": 3
  },
  {
   "metadata": {
    "ExecuteTime": {
     "end_time": "2024-10-28T03:44:16.007174Z",
     "start_time": "2024-10-28T03:44:16.003790Z"
    }
   },
   "cell_type": "code",
   "source": [
    "# inspecting one of the books to get a sense of the content of the files\n",
    "file_handle = open(\"book text files for autoregressive model/Wonderland.txt\", encoding=\"utf8\")  # It's very important to mention utf8 encoding\n",
    "wonderland_book_text = file_handle.read()  # Copies the book as a string in memory\n",
    "file_handle.close()\n",
    "\n",
    "print(wonderland_book_text[0:1000])"
   ],
   "id": "fbf98db77be90b97",
   "outputs": [
    {
     "name": "stdout",
     "output_type": "stream",
     "text": [
      "*** START OF THE PROJECT GUTENBERG EBOOK 11 ***\n",
      "[Illustration]\n",
      "\n",
      "\n",
      "\n",
      "\n",
      "Alice’s Adventures in Wonderland\n",
      "\n",
      "by Lewis Carroll\n",
      "\n",
      "THE MILLENNIUM FULCRUM EDITION 3.0\n",
      "\n",
      "Contents\n",
      "\n",
      " CHAPTER I.     Down the Rabbit-Hole\n",
      " CHAPTER II.    The Pool of Tears\n",
      " CHAPTER III.   A Caucus-Race and a Long Tale\n",
      " CHAPTER IV.    The Rabbit Sends in a Little Bill\n",
      " CHAPTER V.     Advice from a Caterpillar\n",
      " CHAPTER VI.    Pig and Pepper\n",
      " CHAPTER VII.   A Mad Tea-Party\n",
      " CHAPTER VIII.  The Queen’s Croquet-Ground\n",
      " CHAPTER IX.    The Mock Turtle’s Story\n",
      " CHAPTER X.     The Lobster Quadrille\n",
      " CHAPTER XI.    Who Stole the Tarts?\n",
      " CHAPTER XII.   Alice’s Evidence\n",
      "\n",
      "\n",
      "\n",
      "\n",
      "CHAPTER I.\n",
      "Down the Rabbit-Hole\n",
      "\n",
      "\n",
      "Alice was beginning to get very tired of sitting by her sister on the\n",
      "bank, and of having nothing to do: once or twice she had peeped into\n",
      "the book her sister was reading, but it had no pictures or\n",
      "conversations in it, “and what is the use of a book,” thought Alice\n",
      "“without pictures or conversations?”\n",
      "\n",
      "So she was considering in her \n"
     ]
    }
   ],
   "execution_count": 4
  },
  {
   "metadata": {},
   "cell_type": "markdown",
   "source": "writing a function to convert the files into strings of one word length, only taking the actual book content and dropping the metadata at the beginning and end of the files",
   "id": "3b2d45f0ac7c0479"
  },
  {
   "metadata": {
    "ExecuteTime": {
     "end_time": "2024-10-28T03:44:16.034946Z",
     "start_time": "2024-10-28T03:44:16.032341Z"
    }
   },
   "cell_type": "code",
   "source": [
    "def word_sequence_from_file(filepath):\n",
    "\n",
    "    # Open the file\n",
    "    file_handle = open(filepath, encoding=\"utf8\")\n",
    "    raw_book_text = file_handle.read()  # Copies the book as a string in memory\n",
    "    file_handle.close()\n",
    "\n",
    "    start = '*** START OF THE PROJECT GUTENBERG EBOOK'\n",
    "    end = '*** END OF THE PROJECT GUTENBERG EBOOK'\n",
    "    \n",
    "    startInd = raw_book_text.find(start) + len(start)\n",
    "    endInd = raw_book_text.find(end) + len(end)\n",
    "    \n",
    "    book_text = raw_book_text[startInd:endInd+1]\n",
    "    word_sequence = book_text.split()\n",
    "\n",
    "    return word_sequence"
   ],
   "id": "a543853da0bfa2e1",
   "outputs": [],
   "execution_count": 5
  },
  {
   "metadata": {
    "ExecuteTime": {
     "end_time": "2024-10-28T03:44:16.113522Z",
     "start_time": "2024-10-28T03:44:16.045318Z"
    }
   },
   "cell_type": "code",
   "source": [
    "# converting the books into word sequence lists\n",
    "shakespeare = word_sequence_from_file(\"book text files for autoregressive model/Shakespeare.txt\")\n",
    "metamorphosis = word_sequence_from_file(\"book text files for autoregressive model/Metamorphosis.txt\")\n",
    "wonderland = word_sequence_from_file(\"book text files for autoregressive model/Wonderland.txt\")\n",
    "montecristo = word_sequence_from_file(\"book text files for autoregressive model/MonteCristo.txt\")"
   ],
   "id": "47a1d4c89cf2f630",
   "outputs": [],
   "execution_count": 6
  },
  {
   "metadata": {
    "ExecuteTime": {
     "end_time": "2024-10-28T03:44:16.124108Z",
     "start_time": "2024-10-28T03:44:16.119613Z"
    }
   },
   "cell_type": "code",
   "source": [
    "#printing the first 100 words of the wonderland book to test the function\n",
    "display(\" \".join(wonderland[1:100]))"
   ],
   "id": "d32c0ac043a26c2c",
   "outputs": [
    {
     "data": {
      "text/plain": [
       "'*** [Illustration] Alice’s Adventures in Wonderland by Lewis Carroll THE MILLENNIUM FULCRUM EDITION 3.0 Contents CHAPTER I. Down the Rabbit-Hole CHAPTER II. The Pool of Tears CHAPTER III. A Caucus-Race and a Long Tale CHAPTER IV. The Rabbit Sends in a Little Bill CHAPTER V. Advice from a Caterpillar CHAPTER VI. Pig and Pepper CHAPTER VII. A Mad Tea-Party CHAPTER VIII. The Queen’s Croquet-Ground CHAPTER IX. The Mock Turtle’s Story CHAPTER X. The Lobster Quadrille CHAPTER XI. Who Stole the Tarts? CHAPTER XII. Alice’s Evidence CHAPTER I. Down the Rabbit-Hole Alice was beginning to get very tired of sitting'"
      ]
     },
     "metadata": {},
     "output_type": "display_data"
    }
   ],
   "execution_count": 7
  },
  {
   "metadata": {},
   "cell_type": "markdown",
   "source": "To build the model, we need to create an autoregressive model that uses a probabilistic approach to predict the next word in a sequence based on the previous $k$ words. The model will be trained on the text data from one of the books we downloaded. We will use a dictionary to store the probabilities of each word given the previous $k$ words. The model will generate text by predicting the next word based on the last $k$ words and then updating the sequence to include the new word. ",
   "id": "134e5c34ef5aa9d5"
  },
  {
   "metadata": {
    "ExecuteTime": {
     "end_time": "2024-10-28T03:44:16.134467Z",
     "start_time": "2024-10-28T03:44:16.131228Z"
    }
   },
   "cell_type": "code",
   "source": [
    "# create a dictionary that stores the probabilities of each word given the previous k words\n",
    "def make_freq_dict(k, word_sequence):\n",
    "\n",
    "    # Make empty dict to count frequencies\n",
    "    freq_dict = dict()\n",
    "\n",
    "    #loop through all k-grams\n",
    "    for i in range(len(word_sequence) - k -1):\n",
    "        Kgram = \" \".join(word_sequence[i:i+k])\n",
    "        Next = word_sequence[i+k]\n",
    "        \n",
    "        if Kgram in freq_dict:\n",
    "            if Next in freq_dict[Kgram]:\n",
    "                freq_dict[Kgram][Next] += 1\n",
    "            else:\n",
    "                freq_dict[Kgram][Next] = 1\n",
    "        else:\n",
    "            freq_dict[Kgram] = {Next: 1}\n",
    "\n",
    "    return freq_dict"
   ],
   "id": "39c5353faaf70768",
   "outputs": [],
   "execution_count": 8
  },
  {
   "metadata": {
    "ExecuteTime": {
     "end_time": "2024-10-28T03:44:16.145110Z",
     "start_time": "2024-10-28T03:44:16.142682Z"
    }
   },
   "cell_type": "code",
   "source": [
    "#function to predict the next word given a frequency dictionary and a k-gram of words\n",
    "def predict_next_word(this_kgram, freq_dict):\n",
    "    \n",
    "    if this_kgram not in freq_dict:\n",
    "        return None\n",
    "    else:\n",
    "        total = 0\n",
    "        nextWordOptions = []\n",
    "        prob = []\n",
    "        #find probability of each possible next word  \n",
    "        for nextWord, count in freq_dict[this_kgram].items():\n",
    "            total += count\n",
    "        for nextWord,count in freq_dict[this_kgram].items():\n",
    "            nextWordOptions.append(nextWord)\n",
    "            prob.append(count/total)\n",
    "        return random.choices(nextWordOptions, weights = prob, k = 1)[0]"
   ],
   "id": "19f3b64f864b742c",
   "outputs": [],
   "execution_count": 9
  },
  {
   "metadata": {
    "ExecuteTime": {
     "end_time": "2024-10-28T03:44:16.153439Z",
     "start_time": "2024-10-28T03:44:16.150992Z"
    }
   },
   "cell_type": "code",
   "source": [
    "# function to predict a full paragraph of text given a frequency dictionary and an initial k-gram of words selected from the text\n",
    "\n",
    "def predict_paragraph(start_kgram, k, freq_dict, gen_length=300):\n",
    "\n",
    "    gen_para = list(start_kgram)\n",
    "    currKgram = \" \".join(start_kgram)\n",
    "    for i in range(gen_length-k):\n",
    "        nextWord = predict_next_word(currKgram, freq_dict)\n",
    "        \n",
    "        #make sure there is a next word to append to the paragraph\n",
    "        if nextWord is None:\n",
    "            break\n",
    "        gen_para.append(nextWord)\n",
    "        currKgram = \" \".join(gen_para[-k:])\n",
    "\n",
    "    return gen_para"
   ],
   "id": "705a2990a097f179",
   "outputs": [],
   "execution_count": 10
  },
  {
   "metadata": {
    "ExecuteTime": {
     "end_time": "2024-10-28T03:44:16.184872Z",
     "start_time": "2024-10-28T03:44:16.159299Z"
    }
   },
   "cell_type": "code",
   "source": [
    "# test the code generating a paragraph of text from The Metamorphosis\n",
    "\n",
    "# Pick k and make a frequency dictionary from Metamorphosis.\n",
    "k_test = 3\n",
    "\n",
    "freq_dict_test = make_freq_dict(k_test, metamorphosis)\n",
    "\n",
    "# pick a random starting k-gram from the freq-dict.\n",
    "start_test = random.choice(list(freq_dict_test.keys())).split()\n",
    "\n",
    "# Alternatively, pick the start of the book as the first k-gram\n",
    "# start_test = metamorphosis[0:k_test]\n",
    "\n",
    "# Generate a paragraph, and print it.\n",
    "gen_paragraph = predict_paragraph(start_test, k_test, freq_dict_test)\n",
    "\" \".join(gen_paragraph)"
   ],
   "id": "a630b281cd1a1190",
   "outputs": [
    {
     "data": {
      "text/plain": [
       "'room. “You’ll have to go for the doctor straight away. Gregor is ill. Quick, get the doctor. Did you hear the way Gregor spoke just now?” “That was the voice of his superior even here. The uniform had not been working—the first holiday in a life that had been on it—of the lady dressed in copious fur. He hurried up onto the picture and pressed himself against it so that everything really looked as if he were being assailed from all sides. With his head and legs pulled in against him and his family depended on it! If only his sister had certainly left it there for him because of that, but he turned, almost against his own will, away from the dish and crawled back into the centre of the room. Through the crack in the door, Gregor could see that the gas had been lit in the living room. His father at this time would normally be sat with his evening paper, reading it out in a loud voice to Gregor’s mother, and sometimes to his sister, but there was now more than one father behind him; it was not possible for human beings to live with an animal like that and he would disappear. His father, though, was not in the mood to look after it and be patient, I don’t think anyone could accuse us of doing anything wrong.” “She’s absolutely right”, said Gregor’s father to himself. His mother, who still had not had time to give more attention to Gregor than was absolutely necessary? The household budget became even smaller; so now the maid was dismissed; an enormous, thick-boned charwoman with white hair that flapped around her head came every morning and evening to do the job himself. And without considering that he still was'"
      ]
     },
     "execution_count": 11,
     "metadata": {},
     "output_type": "execute_result"
    }
   ],
   "execution_count": 11
  },
  {
   "metadata": {},
   "cell_type": "markdown",
   "source": "The below section is ***NOT MY CODE***, it was given for the assignment to find the length of the longest common substring (LCS) of a generated paragraph and the book used to generate it. This allows us to eplore the tradeoffs between model complexity and output (more accurate and \"real-seeming\" text generation vs. more plagiarism).",
   "id": "5147ca1699295095"
  },
  {
   "metadata": {
    "ExecuteTime": {
     "end_time": "2024-10-28T03:44:16.214232Z",
     "start_time": "2024-10-28T03:44:16.207189Z"
    }
   },
   "cell_type": "code",
   "source": [
    "# GIVEN CODE to find longest common substring\n",
    "from IPython.display import display, Markdown #\n",
    "\n",
    "# Colors to use in the Markdown Text\n",
    "md_colors = [\"#009292\", \"#FF6DB6\", \"#490092\", \"#006DDB\", \"#B66DFF\", \"#920000\", \"#DB6D00\"]\n",
    "\n",
    "def list_of_seqs_to_markdown(list_of_sequences):\n",
    "    \"\"\"\n",
    "    Takes in a list-of-list-of-strings, and colors each sublist with a single\n",
    "    color cycling through the list `md_colors` to pick those colors\n",
    "\n",
    "    :param      list_of_sequences:  List of list of words\n",
    "    :type       list_of_sequences:  List of list of words\n",
    "    \"\"\"\n",
    "\n",
    "    # The output string\n",
    "    display_string = \"\"\n",
    "    for i, word_sequence in enumerate(list_of_sequences):\n",
    "        display_string = display_string + f'<font color={md_colors[i % len(md_colors)]}>{\" \".join(word_sequence)}</font> '\n",
    "\n",
    "    # Draw that string with Markdown\n",
    "    display(Markdown(display_string))\n",
    "\n",
    "\n",
    "class LcsFinder:\n",
    "    \"\"\"\n",
    "    Internally, this class takes `word_sequence` and\n",
    "    builds a hash table from any k-gram that appears in\n",
    "    `word_sequence` to the list of all indices where that\n",
    "    k-gram appears in `word_sequence`. This makes finding\n",
    "    the LCS pretty fast.\n",
    "    It also stores a set of all less-than-k grams that appear\n",
    "    in the text, but just as a set and not as a hash table.\n",
    "    \"\"\"\n",
    "\n",
    "    def __init__(self, word_sequence, k=3):\n",
    "        \"\"\"\n",
    "        By default, this hash table uses 3-grams, this seems to work well. Feel\n",
    "        free to pass in a different k-value, though keep in mind this is a\n",
    "        heuristic speedup, and is unrelated to the k-gram from the language\n",
    "        model.\n",
    "\n",
    "        :param      word_sequence:  A book\n",
    "        :type       word_sequence:  List of strings\n",
    "        :param      k:              Heuristic k-gram size for efficient lookup\n",
    "        :type       k:              int\n",
    "        \"\"\"\n",
    "        self.k = k\n",
    "        self.word_sequence = word_sequence\n",
    "        self.index_hash = dict()\n",
    "        self.short_gram_set = set()\n",
    "\n",
    "        for i in range(len(word_sequence)-k):\n",
    "\n",
    "            k_gram = \" \".join(word_sequence[i:i+k])  # Build this k-gram\n",
    "            if k_gram not in self.index_hash:\n",
    "                self.index_hash[k_gram] = []  # Add it to the hash table if it ain't there\n",
    "            self.index_hash[k_gram].append(i)  # And add the index to the list\n",
    "\n",
    "            # Update the set of short grams with all possible grams starting at i, and with length < k.\n",
    "            self.short_gram_set.update({\" \".join(word_sequence[i:i+j]) for j in range(1,k)})\n",
    "\n",
    "    def length_of_lcs_from_start(self, small_sequence, start_idx):\n",
    "        \"\"\"\n",
    "        Look for the longest common substring of word_sequence and\n",
    "        small_sequence, subject to the substring starting at\n",
    "        `small_sequence[start_idx]`. Returns the length of this LCS, measured in\n",
    "        words.\n",
    "\n",
    "        :param      small_sequence:  A small word sequence\n",
    "        :type       small_sequence:  List of strings\n",
    "        :param      start_idx:       The index where the LCS has to start at\n",
    "        :type       start_idx:       int\n",
    "\n",
    "        :returns:   Length of the LCS, measure in words\n",
    "        :rtype:     int\n",
    "        \"\"\"\n",
    "\n",
    "        # Build the k-gram rooted at start_idx\n",
    "        start_k_gram = \" \".join(small_sequence[start_idx:start_idx+self.k])\n",
    "\n",
    "        # If the k-gram is in the big hash table,\n",
    "        if start_k_gram in self.index_hash:\n",
    "\n",
    "            longest = 0\n",
    "\n",
    "            # Scan over all indices in the list in the hash table\n",
    "            for word_seq_index in self.index_hash[start_k_gram]:\n",
    "\n",
    "                # While loop, starting at size k, expanding the length of the LCS until the sequences stop matching\n",
    "                i = self.k\n",
    "                while (word_seq_index + i < len(self.word_sequence) and # in-bounds on word_sequence\n",
    "                       start_idx + i < len(small_sequence) and # in-bounds on small_sequence\n",
    "                       self.word_sequence[word_seq_index + i] == small_sequence[start_idx + i]): # the words are the same\n",
    "                    i = i+1\n",
    "\n",
    "                # The length of the longest LCS seen so far is kept\n",
    "                longest = max(longest, i)\n",
    "            return longest\n",
    "        else:\n",
    "            # If the k-gram ain't in the big hash table, check if it's sub-grams are in the stored set\n",
    "            for i in range(self.k-1,0,-1): # In order from k-1 to 1\n",
    "                if \" \".join(small_sequence[start_idx:start_idx+i]) in self.short_gram_set:\n",
    "                    return i\n",
    "            return 0\n",
    "\n",
    "    def lcs_length(self, small_sequence):\n",
    "        \"\"\"\n",
    "        Given `small_sequence`, a list of strings, this returns the length of\n",
    "        the longest common substring between `small_sequence` and\n",
    "        `word_sequence`\n",
    "\n",
    "        :param      small_sequence:  A small sequence of words\n",
    "        :type       small_sequence:  List of strings\n",
    "\n",
    "        :returns:   Length of the LCS, measured in words\n",
    "        :rtype:     int\n",
    "        \"\"\"\n",
    "        longest = 0\n",
    "\n",
    "        # Just iterative over all starting words in `small_sequence` and keep the biggest number\n",
    "        for i in range(len(small_sequence)):\n",
    "            sequence_len = self.length_of_lcs_from_start(small_sequence, i)\n",
    "            longest = max(longest, sequence_len)\n",
    "\n",
    "        return longest\n",
    "\n",
    "    # Given `small_sequence`, a list of strings, this prints highlighted markdown that shows where one substring of `word_sequence` ends and the next one starts. If a word doesn't appear in `word_sequence`, we just treat it like a substring of length 1.\n",
    "\n",
    "    def greedy_lcs_markdown(self, small_sequence):\n",
    "        \"\"\"\n",
    "        Given `small_sequence`, a list of strings, this prints highlighted\n",
    "        markdown that shows where one substring of `word_sequence` ends and the\n",
    "        next one starts. If a word doesn't appear in `word_sequence`, we just\n",
    "        treat it like a substring of length 1.\n",
    "\n",
    "        :param      small_sequence:  A small sequence of words\n",
    "        :type       small_sequence:  List of strings\n",
    "\n",
    "        :returns:   Markdown display text (renders by default on Jupyter)\n",
    "        :rtype:     Markdown display text\n",
    "        \"\"\"\n",
    "        list_of_sequences = []  # The output list\n",
    "\n",
    "        i = 0\n",
    "        while i < len(small_sequence):\n",
    "            # iteratate over small_sequence, finding the lcs rooted at index i,\n",
    "            # and color that LCS accordingly.\n",
    "            sequence_len = max(self.length_of_lcs_from_start(small_sequence, i), 1)\n",
    "            list_of_sequences.append(small_sequence[i:i+sequence_len])\n",
    "            i = i + sequence_len\n",
    "\n",
    "        return list_of_seqs_to_markdown(list_of_sequences)"
   ],
   "id": "da9c008426e39ecc",
   "outputs": [],
   "execution_count": 12
  },
  {
   "metadata": {},
   "cell_type": "markdown",
   "source": "Now we can use the `LcsFinder` class to find the length of the longest common substring between a generated paragraph and the book used to generate it. ",
   "id": "e55e8a0581c2b942"
  },
  {
   "metadata": {
    "ExecuteTime": {
     "end_time": "2024-10-28T03:44:16.262882Z",
     "start_time": "2024-10-28T03:44:16.217055Z"
    }
   },
   "cell_type": "code",
   "source": [
    "# Build an LcsFinder for Metamorphosis\n",
    "metamorphosis_finder = LcsFinder(metamorphosis)\n",
    "\n",
    "# Use the LcsFinder to find the LCS length in the generated paragraph\n",
    "print(f'LCS length: {metamorphosis_finder.lcs_length(gen_paragraph)} words')\n",
    "\n",
    "# Use the LcsFinder to highlight substrings in the generated text that appear in the original text.\n",
    "metamorphosis_finder.greedy_lcs_markdown(gen_paragraph)"
   ],
   "id": "cedc8348321620e7",
   "outputs": [
    {
     "name": "stdout",
     "output_type": "stream",
     "text": [
      "LCS length: 84 words\n"
     ]
    },
    {
     "data": {
      "text/plain": [
       "<IPython.core.display.Markdown object>"
      ],
      "text/markdown": "<font color=#009292>room. “You’ll have to go for the doctor straight away. Gregor is ill. Quick, get the doctor. Did you hear the way Gregor spoke just now?” “That was the voice of</font> <font color=#FF6DB6>his superior even here. The uniform had not been</font> <font color=#490092>working—the first holiday in a life that had been</font> <font color=#006DDB>on it—of the lady dressed in copious fur. He hurried up onto the picture and pressed himself against</font> <font color=#B66DFF>it so that everything really looked as if</font> <font color=#920000>he were being assailed from all sides. With his head and legs pulled in against him and his</font> <font color=#DB6D00>family depended on it! If only his sister</font> <font color=#009292>had certainly left it there for him because of that, but he turned, almost against his own will, away from the dish and crawled back into the centre of the room. Through the crack in the door, Gregor could see that the gas had been lit in the living room. His father at this time would normally be sat with his evening paper, reading it out in a loud voice to Gregor’s mother, and sometimes to his sister, but there was now</font> <font color=#FF6DB6>more than one father behind him; it was not</font> <font color=#490092>possible for human beings to live with an animal like that and he would</font> <font color=#006DDB>disappear. His father, though, was not in the mood to</font> <font color=#B66DFF>look after it and be patient, I don’t think anyone could accuse us of doing anything wrong.” “She’s absolutely right”, said Gregor’s father to himself. His mother, who still had not had time to</font> <font color=#920000>give more attention to Gregor than was absolutely necessary? The household budget became even smaller; so now the maid was dismissed; an enormous, thick-boned charwoman with white hair that flapped around her head came every morning and evening to do the</font> <font color=#DB6D00>job himself. And without considering that he still was</font> "
     },
     "metadata": {},
     "output_type": "display_data"
    }
   ],
   "execution_count": 13
  },
  {
   "metadata": {},
   "cell_type": "markdown",
   "source": [
    "This section explores the trade-off between coherence and originality in text generation using different values of $k$ (previous words in the Markov model). Smaller $k$ values produce incoherent text, while larger $k$ values lead to excessive copying from the original text. \n",
    "\n",
    "To quantify this, the lab generates 100 paragraphs of 300 words for each of five $k$ values and calculates the **Longest Common Substring (LCS)** lengths between the generated paragraphs and the original book. It then analyzes the 25th percentile, median, and 75th percentile of LCS lengths to visualize how $k$ affects this balance.\n"
   ],
   "id": "1fc840c531efc132"
  },
  {
   "metadata": {
    "ExecuteTime": {
     "end_time": "2024-10-28T03:44:16.281905Z",
     "start_time": "2024-10-28T03:44:16.278461Z"
    }
   },
   "cell_type": "code",
   "source": [
    "# Which values of k to generate k-grams for and estimate LCS lengths with\n",
    "ks_to_plot = [1, 2, 3, 4, 5]\n",
    "\n",
    "def gen_lcs_statistics(word_sequence):\n",
    "\n",
    "    n_trials = 100  # number of trials\n",
    "    gen_length_test = 300  # number of words to generate\n",
    "\n",
    "    lcs_lengths = np.zeros((len(ks_to_plot), n_trials))\n",
    "    lcs_finder = LcsFinder(word_sequence)\n",
    "\n",
    "    for k in ks_to_plot:\n",
    "        freqDict = make_freq_dict(k, word_sequence)\n",
    "        for i in range(n_trials):\n",
    "            start = random.choice(list(freqDict.keys())).split()\n",
    "            genPara = predict_paragraph(start, k, freqDict, gen_length_test)\n",
    "            \" \".join(genPara)\n",
    "            lcs = lcs_finder.lcs_length(genPara)\n",
    "            lcs_lengths[k-1,i] = lcs\n",
    "            \n",
    "    lcs_length_bots, lcs_length_medians, lcs_length_tops = np.quantile(lcs_lengths, [0.25, 0.5, 0.75], axis = 1)\n",
    "    \n",
    "     \n",
    "    return {\"top_quartiles\": lcs_length_tops, \"medians\": lcs_length_medians, \"bot_quartiles\": lcs_length_bots}"
   ],
   "id": "2332600c5edaf97c",
   "outputs": [],
   "execution_count": 14
  },
  {
   "metadata": {
    "ExecuteTime": {
     "end_time": "2024-10-28T03:44:29.551576Z",
     "start_time": "2024-10-28T03:44:16.292508Z"
    }
   },
   "cell_type": "code",
   "source": [
    "# test code using Shakespeare text file\n",
    "gen_lcs_statistics(shakespeare)\n"
   ],
   "id": "d65538ea2e71e873",
   "outputs": [
    {
     "data": {
      "text/plain": [
       "{'top_quartiles': array([  5.  ,  15.  ,  54.25, 193.75, 300.  ]),\n",
       " 'medians': array([  4.,  13.,  46., 158., 300.]),\n",
       " 'bot_quartiles': array([  4.  ,  11.  ,  37.  , 117.5 , 221.75])}"
      ]
     },
     "execution_count": 15,
     "metadata": {},
     "output_type": "execute_result"
    }
   ],
   "execution_count": 15
  },
  {
   "metadata": {},
   "cell_type": "markdown",
   "source": "Visualizing the trade-off between coherence and originality in text generation by plotting the average LCS lengths for each $k$ value of 300 generated paragraphs from a given text. The plot shows how the LCS length increases with $k$, indicating a trade-off between coherence and originality in text generation.",
   "id": "92b05e8b621a24a5"
  },
  {
   "metadata": {
    "ExecuteTime": {
     "end_time": "2024-10-28T03:44:29.620467Z",
     "start_time": "2024-10-28T03:44:29.617685Z"
    }
   },
   "cell_type": "code",
   "source": [
    "#define function to plot k vs LCS length\n",
    "def plot_lcs_statistics(word_sequence, book_title, lcs_stats):\n",
    "    \"\"\"\n",
    "    Given a book, it's title, and the LCS statistics generated by\n",
    "    `gen_lcs_statistics`, this renders a plot to visualize the statistics.\n",
    "\n",
    "    :param      word_sequence:  The book\n",
    "    :type       word_sequence:  List of string\n",
    "    :param      book_title:     The book's title\n",
    "    :type       book_title:     String\n",
    "    :param      lcs_stats:      The lcs statistics\n",
    "    :type       lcs_stats:      Dict that maps string to numpy array\n",
    "    \"\"\"\n",
    "\n",
    "    ## TODO: WRITE THIS CODE\n",
    "    ## Use plot() to render the median as one line\n",
    "    ## Use fill_between() to shade the area 25th and 75th quartiles with a low alpha value, like alpha=0.35\n",
    "    plt.plot(ks_to_plot, lcs_stats[\"medians\"], linewidth = 2, color = 'darkblue')\n",
    "    \n",
    "    plt.ylim(0,350)\n",
    "    plt.fill_between(ks_to_plot, lcs_stats[\"top_quartiles\"], lcs_stats[\"bot_quartiles\"], color = 'blue', alpha=0.2)\n",
    "    \n",
    "    plt.xlabel('k')\n",
    "    plt.ylabel('LCS Length in Words')\n",
    "    plt.title(book_title + ': k vs length of LCS')"
   ],
   "id": "c73bf509a8995411",
   "outputs": [],
   "execution_count": 16
  },
  {
   "metadata": {
    "ExecuteTime": {
     "end_time": "2024-10-28T03:44:31.146849Z",
     "start_time": "2024-10-28T03:44:29.634211Z"
    }
   },
   "cell_type": "code",
   "source": [
    "#plot for Wonderland book\n",
    "plot_lcs_statistics(wonderland, \"Alice in Wonderland\", gen_lcs_statistics(wonderland))"
   ],
   "id": "273ddd43a618e089",
   "outputs": [
    {
     "data": {
      "text/plain": [
       "<Figure size 640x480 with 1 Axes>"
      ],
      "image/png": "[encoded data removed]"
     },
     "metadata": {},
     "output_type": "display_data"
    }
   ],
   "execution_count": 17
  },
  {
   "metadata": {
    "ExecuteTime": {
     "end_time": "2024-10-28T03:44:31.160611Z",
     "start_time": "2024-10-28T03:44:31.157645Z"
    }
   },
   "cell_type": "code",
   "source": [
    "#function to plot multiple k vs LCS length plots for different books\n",
    "\n",
    "plot_colors = [\"#009292\", \"#FF6DB6\", \"#490092\", \"#006DDB\", \"#B66DFF\", \"#6DB6FF\", \"#B6DBFF\", \"#920000\", \"#924900\", \"#DB6D00\", \"#24FF24\", \"#FFFF6D\"]\n",
    "\n",
    "def plot_many_lcs_statistics(list_of_dicts):\n",
    "\n",
    "    fig, ax = plt.subplots(1, 1, figsize = (10,6))\n",
    "    \n",
    "    for i in range(len(list_of_dicts)):\n",
    "        ax.plot(ks_to_plot, list_of_dicts[i][\"stats\"][\"medians\"], linewidth = 2, color = plot_colors[i], label=list_of_dicts[i][\"book_name\"])\n",
    "        ax.fill_between(ks_to_plot, list_of_dicts[i][\"stats\"][\"top_quartiles\"], list_of_dicts[i][\"stats\"][\"bot_quartiles\"], color=plot_colors[i], alpha = 0.15)\n",
    "        \n",
    "    ax.set_ylim(0,350)\n",
    "    ax.set_xlabel('k')\n",
    "    ax.set_ylabel('LCS Length in Words')\n",
    "    ax.set_title('k vs Length of LCS')\n",
    "    ax.legend(loc = 'best')\n",
    "    plt.show()\n"
   ],
   "id": "77ee5321874c19a2",
   "outputs": [],
   "execution_count": 18
  },
  {
   "metadata": {
    "ExecuteTime": {
     "end_time": "2024-10-28T03:46:02.213353Z",
     "start_time": "2024-10-28T03:45:34.453197Z"
    }
   },
   "cell_type": "code",
   "source": [
    "#generate statistics for all books\n",
    "shakes_stats = gen_lcs_statistics(shakespeare)\n",
    "metamorphosis_stats = gen_lcs_statistics(metamorphosis)\n",
    "wonderland_stats = gen_lcs_statistics(wonderland)\n",
    "monte_cristo_stats = gen_lcs_statistics(montecristo)"
   ],
   "id": "ab228775bb1dbcf8",
   "outputs": [],
   "execution_count": 20
  },
  {
   "metadata": {
    "ExecuteTime": {
     "end_time": "2024-10-28T03:46:04.249423Z",
     "start_time": "2024-10-28T03:46:04.172874Z"
    }
   },
   "cell_type": "code",
   "source": [
    "#plot for all books used in lab\n",
    "plot_many_lcs_statistics(\n",
    "    [\n",
    "        {\n",
    "            \"book_name\": \"All of Shakespeare\",\n",
    "            \"stats\": shakes_stats\n",
    "        }, {\n",
    "            \"book_name\": \"Metamorphosis\",\n",
    "            \"stats\": metamorphosis_stats\n",
    "        }, {\n",
    "            \"book_name\": \"Alice in Wonderland\",\n",
    "            \"stats\": wonderland_stats\n",
    "        }, {\n",
    "            \"book_name\": \"Monte Cristo\",\n",
    "            \"stats\": monte_cristo_stats\n",
    "        }\n",
    "    ]\n",
    ")"
   ],
   "id": "a69635ac2f922405",
   "outputs": [
    {
     "data": {
      "text/plain": [
       "<Figure size 800x480 with 1 Axes>"
      ],
      "image/png": "[encoded data removed]"
     },
     "metadata": {},
     "output_type": "display_data"
    }
   ],
   "execution_count": 21
  },
  {
   "metadata": {},
   "cell_type": "markdown",
   "source": "Lastly, we are asked to come up with our own way of improving the LCS length of the model using a method we come up with or found via research (I found mine looking through documentation on impriving LCS length from *rdrr.io*. To improve the model's LCS length for a given k-gram length, I applied **temperature scaling** to adjust the probabilities of selecting the next word. By increasing the temperature value, I smoothed the probability distribution, making the model less likely to choose the most frequent word and more likely to explore other options. This approach aimed to reduce exact copying from the original text and create more diverse and original paragraphs while maintaining some coherence. I updated the `predict_next_word` function to incorporate temperature scaling and tested the effect on LCS lengths compared to the standard model.\n",
   "id": "5b6bb259ad9a49c4"
  },
  {
   "metadata": {
    "ExecuteTime": {
     "end_time": "2024-10-28T03:46:06.799377Z",
     "start_time": "2024-10-28T03:46:06.795729Z"
    }
   },
   "cell_type": "code",
   "source": [
    "# update predict next word function to include temperature scaling when assigning probabilities\n",
    "def predict_next_word_temp_scaled(this_kgram, freq_dict):\n",
    "    \n",
    "    temp = 1.4\n",
    "    \n",
    "    if this_kgram not in freq_dict:\n",
    "        return None\n",
    "    else:\n",
    "        total = 0\n",
    "        nextWordOptions = []\n",
    "        prob = []\n",
    "        #find probability of each possible next word  \n",
    "        for nextWord, count in freq_dict[this_kgram].items():\n",
    "            total += count\n",
    "        for nextWord,count in freq_dict[this_kgram].items():\n",
    "            nextWordOptions.append(nextWord)\n",
    "            prob.append(count/total)\n",
    "        \n",
    "        #recalc with temp\n",
    "        probTemp = np.exp(np.log(prob) / temp)\n",
    "        \n",
    "        #normalize probs\n",
    "        probTemp /= np.sum(probTemp)\n",
    "        \n",
    "        return random.choices(nextWordOptions, weights = probTemp, k = 1)[0]"
   ],
   "id": "7c36f8b83c3dea23",
   "outputs": [],
   "execution_count": 22
  },
  {
   "metadata": {
    "ExecuteTime": {
     "end_time": "2024-10-28T03:46:08.775557Z",
     "start_time": "2024-10-28T03:46:08.772747Z"
    }
   },
   "cell_type": "code",
   "source": [
    "# update gen paragraph function with new predict next word function\n",
    "def predict_paragraph_temp_scaled(start_kgram, k, freq_dict, gen_length=300):\n",
    "\n",
    "    gen_para = list(start_kgram)\n",
    "    currKgram = \" \".join(start_kgram)\n",
    "    for i in range(gen_length-k):\n",
    "        nextWord = predict_next_word_temp_scaled(currKgram, freq_dict)\n",
    "        \n",
    "        if nextWord is None:\n",
    "            break\n",
    "        gen_para.append(nextWord)\n",
    "        currKgram = \" \".join(gen_para[-k:])\n",
    "    \n",
    "    return gen_para"
   ],
   "id": "8618f89f91feab8a",
   "outputs": [],
   "execution_count": 23
  },
  {
   "metadata": {
    "ExecuteTime": {
     "end_time": "2024-10-28T03:46:12.449455Z",
     "start_time": "2024-10-28T03:46:10.154021Z"
    }
   },
   "cell_type": "code",
   "source": [
    "# test both methods on shakespeare. print two text examples with LCS length and then plot for 100 trials over all options for k\n",
    "\n",
    "k_test = 3\n",
    "\n",
    "freq_dict_test = make_freq_dict(k_test, shakespeare)\n",
    "\n",
    "# pick a random starting k-gram from the freq-dict.\n",
    "start_test = random.choice(list(freq_dict_test.keys())).split()\n",
    "\n",
    "# Generate a paragraph, and print it.\n",
    "gen_paragraph = predict_paragraph(start_test, k_test, freq_dict_test)\n",
    "\" \".join(gen_paragraph)\n",
    "\n",
    "gen_paragraph_temp_scaled = predict_paragraph_temp_scaled(start_test, k_test, freq_dict_test)\n",
    "\" \".join(gen_paragraph_temp_scaled)\n",
    "\n",
    "shakespeare_finder = LcsFinder(shakespeare)\n",
    "\n",
    "# Use the LcsFinder to find the LCS length in the generated paragraph\n",
    "print(f'LCS length original: {shakespeare_finder.lcs_length(gen_paragraph)} words')\n",
    "print(f'LCS length temp scaled: {shakespeare_finder.lcs_length(gen_paragraph_temp_scaled)} words')\n",
    "print()\n",
    "\n",
    "# Use the LcsFinder to highlight substrings in the generated text that appear in the original text.\n",
    "print('paragraph w/ no temp scaling:')\n",
    "shakespeare_finder.greedy_lcs_markdown(gen_paragraph)\n",
    "print('paragraph w/ temp scaling:')\n",
    "shakespeare_finder.greedy_lcs_markdown(gen_paragraph_temp_scaled)  "
   ],
   "id": "7dfb8b28584bd802",
   "outputs": [
    {
     "name": "stdout",
     "output_type": "stream",
     "text": [
      "LCS length original: 37 words\n",
      "LCS length temp scaled: 34 words\n",
      "\n",
      "paragraph w/ no temp scaling:\n"
     ]
    },
    {
     "data": {
      "text/plain": [
       "<IPython.core.display.Markdown object>"
      ],
      "text/markdown": "<font color=#009292>use it. SHYLOCK. When Jacob graz’d his uncle Laban’s sheep,— This Jacob from our holy Abram was As his wise mother wrought in his behalf, The third possessor; ay, he was the third. ANTONIO. And what of</font> <font color=#FF6DB6>him, Tranio? TRANIO. If he be</font> <font color=#490092>noble Arcite, thousand ways! Were I at liberty, I would do</font> <font color=#006DDB>such a wrong for the whole</font> <font color=#B66DFF>to be imagined. And from the</font> <font color=#920000>organ-pipe of frailty sings His soul and body</font> <font color=#DB6D00>rive not more in</font> <font color=#009292>joy at first hearing he was a</font> <font color=#FF6DB6>man. But now I’ll tell thee</font> <font color=#490092>all my whole device When I am</font> <font color=#006DDB>sure you know how much the</font> <font color=#B66DFF>estate is green and yet ungoverned. Where every horse bears his commanding rein And may direct his course as please himself, As well the fear of</font> <font color=#920000>God on the left hand,</font> <font color=#DB6D00>a seat being left void above him, as for Canterbury’s seat. Duke of Suffolk,</font> <font color=#009292>And girt thee with the</font> <font color=#FF6DB6>fall? MARTIUS. O brother, with the dismall’st object hurt That ever eye with sight made heart lament! AARON. [_Aside_.] Now will I</font> <font color=#490092>stir this gamester. I hope I</font> <font color=#006DDB>dream; For so I</font> <font color=#B66DFF>know he is, they know he is— A most arch heretic, a pestilence That does infect the land; with which they, moved, Have broken with the King,</font> <font color=#920000>To lay aside life-harming heaviness And entertain a</font> <font color=#DB6D00>score or two of</font> <font color=#009292>these! SANDYS. I would I</font> <font color=#FF6DB6>had some flowers o’ th’</font> <font color=#490092>season Are our carnations and streak’d gillyvors, Which some call nature’s bastards: of that kind Our rustic garden’s barren; and I care not</font> <font color=#006DDB>for thee. KENT. Pray do not, sir: I have watch’d, and travell’d hard; Some time I shall</font> <font color=#B66DFF>not need it if he have</font> <font color=#920000>no wife! There’s nothing here that is too good</font> <font color=#DB6D00>to be Where ill men were, and was the best</font> "
     },
     "metadata": {},
     "output_type": "display_data"
    },
    {
     "name": "stdout",
     "output_type": "stream",
     "text": [
      "paragraph w/ temp scaling:\n"
     ]
    },
    {
     "data": {
      "text/plain": [
       "<IPython.core.display.Markdown object>"
      ],
      "text/markdown": "<font color=#009292>use it. SHYLOCK. When Jacob graz’d his uncle Laban’s sheep,— This Jacob from our holy Abram was As his wise mother wrought in his behalf, The third possessor; ay, he was the</font> <font color=#FF6DB6>lord Of this fair</font> <font color=#490092>couple—meets he on the way</font> <font color=#006DDB>a little, And say if I shall</font> <font color=#B66DFF>be post indeed, For she will score your fault upon my pate. Methinks your maw, like mine, should be your</font> <font color=#920000>patient to follow your prescriptions, the wise may make some dram of a scruple,</font> <font color=#DB6D00>no obstacle, no incredulous or unsafe circumstance. What can be said? Nothing that can be can come between me and the</font> <font color=#009292>peers; And be thou he. MESSENGER. With all my</font> <font color=#FF6DB6>force, pursuit, and policy. AENEAS. And thou shalt</font> <font color=#490092>find me sad and solitary. [_Exit._] JULIA. How many women</font> <font color=#006DDB>saw this child of his? AARON. Why, so, brave lords! When we join in league, I am a</font> <font color=#B66DFF>peppercorn, a brewer’s horse. The inside of a church! Company, villainous company, hath been the spoil of me. BARDOLPH. Sir John, you</font> <font color=#920000>live in great infamy. FALSTAFF. He that buckles himself in my belt cannot live in less. CHIEF JUSTICE. Your means are very slender, and your waste is great. FALSTAFF. I would</font> <font color=#DB6D00>all the world should</font> <font color=#009292>so much differ, And we alive that lived? Fly, damned baseness, To him that</font> <font color=#FF6DB6>ever fears he shall be</font> <font color=#490092>King. SMITH. Sir, he made a</font> <font color=#006DDB>good pantler; he would ha’ chipped bread well. DOLL. They say Poins has a good</font> <font color=#B66DFF>face, speaks well and has excellent good clothes: there’s no farther necessity of qualities can make her be refused. BAWD. What is her</font> <font color=#920000>burying grave, that is her womb: And from her</font> <font color=#DB6D00>twining arms doth urge releasing: 256 “Pity,” she cries; “some favour, some remorse!” Away he springs, and hasteth to his horse. But lo</font> "
     },
     "metadata": {},
     "output_type": "display_data"
    }
   ],
   "execution_count": 24
  },
  {
   "metadata": {
    "ExecuteTime": {
     "end_time": "2024-10-28T03:48:48.334454Z",
     "start_time": "2024-10-28T03:48:43.975760Z"
    }
   },
   "cell_type": "code",
   "source": [
    "#testing using a large sample size of generated paragraphs to evaluate effectiveness of temperature scling here\n",
    "# get average difference across 100 tests - turns out this doesn't really work\n",
    "tests = 150\n",
    "\n",
    "shakespeare_finder = LcsFinder(shakespeare)\n",
    "tempTotalLCS = 0\n",
    "origTotalLCS = 0\n",
    "totalDiff = 0\n",
    "\n",
    "for i in range(tests):\n",
    "    start_test = random.choice(list(freq_dict_test.keys())).split()\n",
    "    gen_paragraph = predict_paragraph(start_test, k_test, freq_dict_test)\n",
    "    \" \".join(gen_paragraph)\n",
    "\n",
    "    gen_paragraph_temp_scaled = predict_paragraph_temp_scaled(start_test, k_test, freq_dict_test)\n",
    "    \" \".join(gen_paragraph_temp_scaled)\n",
    "    \n",
    "    origTotalLCS += shakespeare_finder.lcs_length(gen_paragraph)\n",
    "    tempTotalLCS += shakespeare_finder.lcs_length(gen_paragraph_temp_scaled)\n",
    "\n",
    "avgOrigLCS = origTotalLCS/tests\n",
    "avgTempLCS = tempTotalLCS/tests\n",
    "\n",
    "avgDiff = avgOrigLCS - avgTempLCS\n",
    "\n",
    "print(\"average LCS length Original: \" + str(avgOrigLCS))\n",
    "print(\"average LCS length TempScaled: \" + str(avgTempLCS))\n",
    "print(\"average difference: \" + str(avgDiff))"
   ],
   "id": "f46b4c604a795d56",
   "outputs": [
    {
     "name": "stdout",
     "output_type": "stream",
     "text": [
      "average LCS length Original: 49.74\n",
      "average LCS length TempScaled: 48.653333333333336\n",
      "average difference: 1.086666666666666\n"
     ]
    }
   ],
   "execution_count": 25
  },
  {
   "metadata": {},
   "cell_type": "markdown",
   "source": [
    "Ultimately, the temperature scaling approach did not work particularly well. This method likely didn't improve LCS length because, while it introduces more variability in word choice, it doesn't fundamentally change the structure of the generated text. The model still relies heavily on the k-gram frequencies from the original text, meaning that it can still copy long segments if they are common enough. Additionally, increasing temperature too much may disrupt grammatical coherence without sufficiently reducing copying, leading to incoherent but still plagiaristic text. Therefore, more sophisticated methods beyond temperature scaling are needed to balance originality and structure effectively.\n",
    " "
   ],
   "id": "9104925d36a35e7"
  }
 ],
 "metadata": {
  "kernelspec": {
   "display_name": "Python 3",
   "language": "python",
   "name": "python3"
  },
  "language_info": {
   "codemirror_mode": {
    "name": "ipython",
    "version": 2
   },
   "file_extension": ".py",
   "mimetype": "text/x-python",
   "name": "python",
   "nbconvert_exporter": "python",
   "pygments_lexer": "ipython2",
   "version": "2.7.6"
  }
 },
 "nbformat": 4,
 "nbformat_minor": 5
}
